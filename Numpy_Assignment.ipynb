{
  "nbformat": 4,
  "nbformat_minor": 0,
  "metadata": {
    "colab": {
      "provenance": [],
      "authorship_tag": "ABX9TyNGMPZE+0xtn+aK0Efa1lbN",
      "include_colab_link": true
    },
    "kernelspec": {
      "name": "python3",
      "display_name": "Python 3"
    },
    "language_info": {
      "name": "python"
    }
  },
  "cells": [
    {
      "cell_type": "markdown",
      "metadata": {
        "id": "view-in-github",
        "colab_type": "text"
      },
      "source": [
        "<a href=\"https://colab.research.google.com/github/ArchanaSahoo89/Numpy_Assignment/blob/main/Numpy_Assignment.ipynb\" target=\"_parent\"><img src=\"https://colab.research.google.com/assets/colab-badge.svg\" alt=\"Open In Colab\"/></a>"
      ]
    },
    {
      "cell_type": "code",
      "source": [
        "# Theoretical Questions & Answers:"
      ],
      "metadata": {
        "id": "iHERaexUI4ZM"
      },
      "execution_count": null,
      "outputs": []
    },
    {
      "cell_type": "code",
      "execution_count": null,
      "metadata": {
        "id": "A8GGbgf4Qtrn"
      },
      "outputs": [],
      "source": [
        "# 1. Explain the purpose and advantages of NumPy in scientific computing and data analysis. How does it enhance Python's capabilities for numerical operations?\n",
        "\n",
        "\n",
        "# Here’s why NumPy is used widely in python for scientific computing and data analysis:\n",
        "\n",
        "# Speed and Efficiency: NumPy is designed for performance. It uses optimized C and Fortran libraries under the hood, so numerical operations are super fast.\n",
        "\n",
        "# Array Operations: Handling large, multi-dimensional arrays is a breeze with NumPy. Think of it as Excel on steroids.\n",
        "\n",
        "# Mathematical Functions: It’s packed with mathematical functions: everything from basic arithmetic to advanced algebraic operations. No need to reinvent the wheel.\n",
        "\n",
        "# Integration: NumPy works seamlessly with other Python libraries like SciPy, pandas, and matplotlib, creating a powerhouse for data analysis and visualization.\n",
        "\n",
        "# In essence, NumPy supercharges Python, making it a formidable tool for anything number-crunching related.\n"
      ]
    },
    {
      "cell_type": "code",
      "source": [
        "# 2. Compare and contrast np.mean() and np.average() functions in NumPy. When would you use one over the other?\n",
        "\n",
        "\n",
        "# np.mean() is a function that calculates the arithmetic mean along the specified axis or across the entire array if no axis is specified. It’s simple, fast, and usually what you want when we are dealing with a basic dataset.\n",
        "\n",
        "# np.average() is a bit more versatile. Besides calculating the mean, it also allows for weighting of elements. we can specify weights, and the function will compute a weighted average. This can be especially useful when it is needed to account for varying importance or frequency of elements in your dataset.\n",
        "\n",
        "# we can use np.mean() for standard, unweighted averages. np.average() comes in handy when dealing with datasets where some values should be weighted more heavily than others.\n",
        "\n"
      ],
      "metadata": {
        "id": "Ffufy70NQ0AU"
      },
      "execution_count": null,
      "outputs": []
    },
    {
      "cell_type": "code",
      "source": [
        "# 3.Describe the methods for reversing a NumPy array along different axes. Provide examples for 1D and 2D arrays.\n",
        "\n",
        "\n",
        "# Reversing a NumPy array can be accomplished using various methods depending on whether we want to reverse along different axes.Below are some common methods to reverse both 1D and 2D NumPy arrays.\n",
        "\n",
        "# 1D Array Reversal\n",
        "\n",
        "# For a 1D array, we can reverse it using slicing.\n",
        "# Example:\n",
        "\n",
        "import numpy as np\n",
        "arr_1d = np.array([1, 2, 3, 4, 5])\n",
        "reversed_arr_1d = arr_1d[::-1]\n",
        "print(\"Original 1D Array:\", arr_1d)\n",
        "print(\"Reversed 1D Array:\", reversed_arr_1d)\n",
        "\n",
        "# 2D Array Reversal\n",
        "\n",
        "# For a 2D array, we can reverse along specific axes using slicing.\n",
        "# Example:\n",
        "\n",
        "arr_2d = np.array([[1, 2, 3],\n",
        "                   [4, 5, 6],\n",
        "                   [7, 8, 9]])\n",
        "\n",
        "# Reverse along the first axis (rows)\n",
        "reversed_rows = arr_2d[::-1, :]\n",
        "\n",
        "print(\"Original 2D Array:\\n\", arr_2d)\n",
        "print(\"Reversed along first axis (rows):\\n\", reversed_rows)\n",
        "\n",
        "# Reverse along the second axis (columns)\n",
        "reversed_columns = arr_2d[:, ::-1]\n",
        "\n",
        "print(\"Reversed along second axis (columns):\\n\", reversed_columns)\n",
        "\n",
        "# These methods are efficient and take advantage of NumPy's slicing capabilities to quickly reverse arrays.\n",
        "\n"
      ],
      "metadata": {
        "id": "bDSwHnS-Q0F7",
        "colab": {
          "base_uri": "https://localhost:8080/"
        },
        "outputId": "ec7af1fb-e932-4ef3-83c2-b4196b398baa"
      },
      "execution_count": null,
      "outputs": [
        {
          "output_type": "stream",
          "name": "stdout",
          "text": [
            "Original 1D Array: [1 2 3 4 5]\n",
            "Reversed 1D Array: [5 4 3 2 1]\n",
            "Original 2D Array:\n",
            " [[1 2 3]\n",
            " [4 5 6]\n",
            " [7 8 9]]\n",
            "Reversed along first axis (rows):\n",
            " [[7 8 9]\n",
            " [4 5 6]\n",
            " [1 2 3]]\n",
            "Reversed along second axis (columns):\n",
            " [[3 2 1]\n",
            " [6 5 4]\n",
            " [9 8 7]]\n"
          ]
        }
      ]
    },
    {
      "cell_type": "code",
      "source": [
        "# 4. How can you determine the data type of elements in a NumPy array? Discuss the importance of data types in memory management and performance.\n",
        "\n",
        "# we can determine the data type of elements in a NumPy array using the .dtype attribute. This attribute returns a NumPy data type object that describes the type of the array's elements.\n",
        "\n",
        "# Example:\n",
        "\n",
        "import numpy as np\n",
        "arr = np.array([1, 2, 3, 4, 5])\n",
        "data_type = arr.dtype\n",
        "print(\"Data type of the array:\", data_type)\n",
        "\n",
        "# Importance of Data Types in Memory Management and Performance\n",
        "\n",
        "# Memory Efficiency:\n",
        "# Different data types require different amounts of memory. For instance, int32 uses 4 bytes, while int64 uses 8 bytes. Choosing the appropriate data type can significantly reduce memory usage, especially with large datasets.\n",
        "# When working with large arrays, using smaller data types (like float32 instead of float64, or int8 instead of int64) can lead to substantial memory savings.\n",
        "\n",
        "# Performance:\n",
        "# Operations on arrays can be faster with certain data types. For example, computations with float32 might be quicker than float64 on some hardware due to lower data size.\n",
        "# The choice of data type can also affect the performance of NumPy's underlying operations. For instance, vectorized operations might be optimized for specific data types.\n",
        "\n",
        "# Precision and Range:\n",
        "# Choosing the right data type affects both the precision and the range of values that can be represented. For example, using int8 limits values between -128 and 127, which might lead to overflow issues if not properly managed.\n",
        "# Using floating-point numbers can introduce precision issues, so it’s essential to choose a type that balances range and precision for the specific application.\n",
        "\n",
        "# Type Compatibility:\n",
        "# When performing operations on arrays of different data types, NumPy will attempt to cast types to a common type (which may result in loss of information). Understanding the data types helps prevent unexpected behaviors during calculations.\n",
        "\n",
        "# Choosing the right data type can lead to more efficient code and prevent potential errors related to overflow or loss of precision.\n"
      ],
      "metadata": {
        "id": "DToOC2srQ0Lj",
        "colab": {
          "base_uri": "https://localhost:8080/"
        },
        "outputId": "61e0d25e-1ef1-4f2b-d922-0b0c527cb33e"
      },
      "execution_count": null,
      "outputs": [
        {
          "output_type": "stream",
          "name": "stdout",
          "text": [
            "Data type of the array: int64\n"
          ]
        }
      ]
    },
    {
      "cell_type": "code",
      "source": [
        "# 5. Define ndarrays in NumPy and explain their key features. How do they differ from standard Python lists?\n",
        "\n",
        "\n",
        "# In NumPy, an ndarray (N-dimensional array) is a powerful data structure used for storing and manipulating large datasets in a multidimensional format. Here are the key features of ndarrays and how they differ from standard Python lists:\n",
        "\n",
        "# Key Features of ndarrays:\n",
        "\n",
        "# Homogeneous Data Type:\n",
        "# All elements in a NumPy array are of the same data type (e.g., all integers, all floats). This allows for more efficient storage and computation.\n",
        "\n",
        "# Multidimensional:\n",
        "# ndarrays can have multiple dimensions (1D, 2D, 3D, etc.), allowing for complex data structures such as matrices, tensors, and higher-dimensional data.\n",
        "\n",
        "# Fixed Size:\n",
        "# The size of a NumPy array is fixed upon creation. If you need a different size, you must create a new array.\n",
        "\n",
        "# Efficient Memory Usage:\n",
        "# ndarrays are more memory-efficient compared to Python lists due to their homogeneous nature and contiguous memory storage.\n",
        "\n",
        "# Vectorized Operations:\n",
        "# NumPy supports element-wise operations, allowing you to perform mathematical operations on entire arrays without the need for explicit loops. This leads to cleaner code and significantly improved performance.\n",
        "\n",
        "# Broadcasting:\n",
        "# NumPy can automatically expand the dimensions of arrays during arithmetic operations to make them compatible, which simplifies calculations involving arrays of different shapes.\n",
        "\n",
        "# Rich Functionality:\n",
        "# NumPy provides a vast library of mathematical functions, statistical operations, and linear algebra routines that operate directly on ndarrays.\n",
        "\n",
        "# Interoperability:\n",
        "# NumPy arrays are often used with other scientific computing libraries (like SciPy, Pandas, and Matplotlib), making them a cornerstone of scientific computing in Python.\n",
        "\n",
        "\n",
        "# Differences from Standard Python Lists:\n",
        "\n",
        "# Data Type:\n",
        "# Python lists can store elements of different data types (e.g., integers, strings, lists, etc.), while NumPy arrays require all elements to be of the same type.\n",
        "\n",
        "# Performance:\n",
        "# NumPy arrays are generally faster for numerical computations due to their optimized C backend and the ability to perform operations in bulk (vectorization). Python lists are slower for numerical operations because they require explicit loops.\n",
        "\n",
        "# Memory Efficiency:\n",
        "# NumPy arrays use less memory than Python lists. Lists require additional memory overhead to store type information for each element, while ndarrays store elements in a contiguous block of memory.\n",
        "\n",
        "# Functionality:\n",
        "# NumPy arrays come with built-in mathematical functions and capabilities that Python lists lack. Operations on lists often require manual iteration or additional libraries.\n",
        "\n",
        "# Size and Resizing:\n",
        "# The size of a NumPy array is fixed once created, whereas Python lists can be dynamically resized (elements can be added or removed).\n",
        "\n",
        "\n",
        "# Example:\n",
        "\n",
        "import numpy as np\n",
        "py_list = [1, 2, 3, 4]\n",
        "np_array = np.array([1, 2, 3, 4])\n",
        "py_list.append(5)\n",
        "np_array = np.append(np_array, 5)\n",
        "np_squared = np_array ** 2\n",
        "print(\"Python List:\", py_list)\n",
        "print(\"NumPy Array:\", np_array)\n",
        "print(\"Squared NumPy Array:\", np_squared)\n",
        "\n",
        "# ndarrays are a powerful alternative to standard Python lists, especially for numerical and scientific computing, due to their efficiency, functionality, and ease of use with mathematical operations.\n"
      ],
      "metadata": {
        "id": "FDrFfFZ2Q0P1",
        "colab": {
          "base_uri": "https://localhost:8080/"
        },
        "outputId": "f10832cc-a9bb-4f6d-fcce-ac4c0269e51b"
      },
      "execution_count": null,
      "outputs": [
        {
          "output_type": "stream",
          "name": "stdout",
          "text": [
            "Python List: [1, 2, 3, 4, 5]\n",
            "NumPy Array: [1 2 3 4 5]\n",
            "Squared NumPy Array: [ 1  4  9 16 25]\n"
          ]
        }
      ]
    },
    {
      "cell_type": "code",
      "source": [
        "# 6. Analyze the performance benefits of NumPy arrays over Python lists for large-scale numerical operations.\n",
        "\n",
        "# NumPy arrays provide significant performance benefits over Python lists, particularly for large-scale numerical operations.\n",
        "\n",
        "# I. Memory Efficiency\n",
        "# Contiguous Memory Allocation: NumPy arrays are stored in contiguous memory locations, allowing for better cache coherence. This reduces the time needed to access data compared to Python lists, which store references to objects that may be scattered in memory.\n",
        "# Homogeneous Data Types: NumPy arrays require all elements to be of the same data type, which allows for more compact storage. In contrast, Python lists can contain mixed types, resulting in additional overhead for storing type information.\n",
        "\n",
        "# II. Performance and Speed\n",
        "# Vectorized Operations: NumPy allows operations to be performed on entire arrays without explicit loops. This is achieved through vectorization, which translates high-level operations into optimized C code, resulting in substantial speed improvements.\n",
        "# Ex:\n",
        "import numpy as np\n",
        "\n",
        "arr = np.arange(1_000_000)\n",
        "result = arr * 2\n",
        "\n",
        "# Reduction of Python Overhead: When using Python lists, operations often involve a lot of Python-level overhead due to the interpreted nature of the language. NumPy minimizes this overhead by leveraging compiled code, resulting in faster execution times.\n",
        "\n",
        "# III. Broadcasting Capabilities\n",
        "\n",
        "# Automatic Expansion: NumPy supports broadcasting, allowing arrays of different shapes to be used in arithmetic operations without needing to manually align their shapes. This feature simplifies coding and enhances performance.\n",
        "#Example:\n",
        "\n",
        "a = np.array([[1, 2, 3], [4, 5, 6]])\n",
        "b = np.array([1, 2, 3])\n",
        "result = a + b\n",
        "\n",
        "# IV. Built-in Functions\n",
        "\n",
        "# Optimized Mathematical Functions: NumPy includes a vast array of optimized mathematical functions, such as np.sum(), np.mean(), and more, which are implemented in C. These functions are typically faster than equivalent Python list operations, especially for large datasets.\n",
        "\n",
        "# V. Parallelism and Efficiency\n",
        "\n",
        "#Multi-threading and SIMD: NumPy can leverage multi-threading and SIMD (Single Instruction, Multiple Data) capabilities of modern CPUs for parallel processing. This leads to significant performance gains, especially for large-scale computations.\n",
        "\n",
        "# VI. Lower Overhead for Large Data Sets\n",
        "#Reduced Function Call Overhead: Operations on large datasets in Python incur overhead due to repeated function calls. In contrast, NumPy processes large chunks of data at once, reducing the overhead and speeding up calculations.\n",
        "\n",
        "#Performance Comparison Example:\n",
        "\n",
        "import numpy as np\n",
        "import time\n",
        "\n",
        "size = 10_000_000\n",
        "list_a = list(range(size))\n",
        "list_b = list(range(size))\n",
        "\n",
        "start_time = time.time()\n",
        "list_result = [x + y for x, y in zip(list_a, list_b)]\n",
        "print(\"Python List Time:\", time.time() - start_time)\n",
        "\n",
        "array_a = np.array(list_a)\n",
        "array_b = np.array(list_b)\n",
        "\n",
        "start_time = time.time()\n",
        "array_result = array_a + array_b\n",
        "print(\"NumPy Array Time:\", time.time() - start_time)\n",
        "\n",
        "# These advantages make NumPy a powerful tool for numerical computing, data analysis, and scientific research, especially when handling large datasets.\n"
      ],
      "metadata": {
        "id": "tpYPXJ9tQ0VD",
        "colab": {
          "base_uri": "https://localhost:8080/"
        },
        "outputId": "ca4abed6-be88-451a-dd6b-16688f3caa2a"
      },
      "execution_count": null,
      "outputs": [
        {
          "output_type": "stream",
          "name": "stdout",
          "text": [
            "Python List Time: 1.003739833831787\n",
            "NumPy Array Time: 0.04016828536987305\n"
          ]
        }
      ]
    },
    {
      "cell_type": "code",
      "source": [
        "# 7. Compare vstack() and hstack() functions in NumPy. Provide examples demonstrating their usage and output.\n",
        "\n",
        "# In NumPy, vstack() and hstack() are functions used to stack arrays vertically and horizontally, respectively. Here’s a comparison of both functions along with examples demonstrating their usage.\n",
        "\n",
        "# vstack()\n",
        "\n",
        "# Function: numpy.vstack(tup)\n",
        "# Description: Stacks arrays in sequence vertically (row-wise). This means it adds rows on top of each other.\n",
        "# Input: A tuple of arrays that have the same shape along all but the first axis.\n",
        "\n",
        "# Example of vstack():\n",
        "\n",
        "import numpy as np\n",
        "\n",
        "array1 = np.array([[1, 2, 3],\n",
        "                   [4, 5, 6]])\n",
        "\n",
        "array2 = np.array([[7, 8, 9],\n",
        "                   [10, 11, 12]])\n",
        "\n",
        "result_vstack = np.vstack((array1, array2))\n",
        "\n",
        "print(\"Result of vstack:\")\n",
        "print(result_vstack)\n",
        "\n",
        "# hstack()\n",
        "\n",
        "# Function: numpy.hstack(tup)\n",
        "# Description: Stacks arrays in sequence horizontally (column-wise). This means it adds columns side by side.\n",
        "# Input: A tuple of arrays that have the same shape along all but the second axis.\n",
        "\n",
        "# Example of hstack()\n",
        "\n",
        "array1 = np.array([[1, 2, 3],\n",
        "                   [4, 5, 6]])\n",
        "\n",
        "array2 = np.array([[7, 8, 9],\n",
        "                   [10, 11, 12]])\n",
        "\n",
        "result_hstack = np.hstack((array1, array2))\n",
        "\n",
        "print(\"\\nResult of hstack:\")\n",
        "print(result_hstack)\n",
        "\n",
        "# Both vstack() and hstack() are useful for combining arrays, but they serve different purposes depending on how you want to organize your data. we can use vstack() when we want to stack arrays row-wise and hstack() when we want to stack them column-wise.\n"
      ],
      "metadata": {
        "id": "wakdtdamQ0Y4",
        "colab": {
          "base_uri": "https://localhost:8080/"
        },
        "outputId": "4f4c7480-3597-4c25-8208-1b6b60678e76"
      },
      "execution_count": null,
      "outputs": [
        {
          "output_type": "stream",
          "name": "stdout",
          "text": [
            "Result of vstack:\n",
            "[[ 1  2  3]\n",
            " [ 4  5  6]\n",
            " [ 7  8  9]\n",
            " [10 11 12]]\n",
            "\n",
            "Result of hstack:\n",
            "[[ 1  2  3  7  8  9]\n",
            " [ 4  5  6 10 11 12]]\n"
          ]
        }
      ]
    },
    {
      "cell_type": "code",
      "source": [
        "# 8. Explain the differences between fliplr() and flipud() methods in NumPy, including their effects on various array dimensions.\n",
        "\n",
        "# In NumPy, the fliplr() and flipud() functions are used to flip arrays along specific axes. Here’s a detailed explanation of both methods, including their differences and effects on various array dimensions.\n",
        "\n",
        "# 1. fliplr()\n",
        "\n",
        "# Function: numpy.fliplr(m)\n",
        "# Description: Flips an array from left to right (horizontally).\n",
        "# Input: A 2D array.\n",
        "# Effect: Each row of the array is reversed, which means the first column becomes the last, the second column becomes the second-to-last, and so on.\n",
        "\n",
        "# Example:\n",
        "\n",
        "import numpy as np\n",
        "\n",
        "array_2d = np.array([[1, 2, 3],\n",
        "                     [4, 5, 6],\n",
        "                     [7, 8, 9]])\n",
        "\n",
        "flipped_lr = np.fliplr(array_2d)\n",
        "\n",
        "print(\"Original Array:\")\n",
        "print(array_2d)\n",
        "\n",
        "print(\"\\nFlipped Left to Right (fliplr):\")\n",
        "print(flipped_lr)\n",
        "\n",
        "# 2. flipud()\n",
        "\n",
        "# Function: numpy.flipud(m)\n",
        "# Description: Flips an array up to down (vertically).\n",
        "# Input: A 2D array.\n",
        "# Effect: Each column of the array is reversed, which means the first row becomes the last, the second row becomes the second-to-last, and so on.\n",
        "# Example of flipud()\n",
        "\n",
        "flipped_ud = np.flipud(array_2d)\n",
        "\n",
        "print(\"\\nFlipped Up to Down (flipud):\")\n",
        "print(flipped_ud)\n",
        "\n",
        "# Effects on Various Array Dimensions\n",
        "\n",
        "# 1D Arrays: Both fliplr() and flipud() do not apply to 1D arrays since they are designed for 2D arrays. Using them on a 1D array will result in an error.\n",
        "\n",
        "# 2D Arrays: As demonstrated, both functions operate on the last two dimensions of the array, allowing for flipping either horizontally or vertically.\n",
        "\n",
        "# 3D Arrays and Higher: For arrays with more than two dimensions, fliplr() and flipud() will only apply to the last two dimensions. The remaining dimensions will remain unchanged. This can be useful when dealing with multi-dimensional datasets.\n",
        "\n",
        "\n",
        "# fliplr() and flipud() are useful functions for flipping 2D arrays horizontally and vertically, respectively. They are designed specifically for 2D arrays and do not have meaningful effects on 1D arrays, while they can also operate on the last two dimensions of higher-dimensional arrays. Understanding these functions is crucial for manipulating data in NumPy effectively.\n",
        "\n"
      ],
      "metadata": {
        "id": "M30keWdUQ0dF",
        "colab": {
          "base_uri": "https://localhost:8080/"
        },
        "outputId": "fb51cf2d-10a7-4fe4-c3a6-6de04c306f40"
      },
      "execution_count": null,
      "outputs": [
        {
          "output_type": "stream",
          "name": "stdout",
          "text": [
            "Original Array:\n",
            "[[1 2 3]\n",
            " [4 5 6]\n",
            " [7 8 9]]\n",
            "\n",
            "Flipped Left to Right (fliplr):\n",
            "[[3 2 1]\n",
            " [6 5 4]\n",
            " [9 8 7]]\n",
            "\n",
            "Flipped Up to Down (flipud):\n",
            "[[7 8 9]\n",
            " [4 5 6]\n",
            " [1 2 3]]\n"
          ]
        }
      ]
    },
    {
      "cell_type": "code",
      "source": [
        "# 9. Discuss the functionality of the array_split() method in NumPy. How does it handle uneven splits?\n",
        "\n",
        "# The array_split() method in NumPy is used to split an array into multiple sub-arrays. Unlike split(), which requires the splits to be equal, array_split() can handle uneven splits. Here’s a detailed overview of its functionality and behavior, especially regarding uneven splits.\n",
        "\n",
        "# Functionality of array_split():\n",
        "\n",
        "# Function Signature: numpy.array_split(ary, indices_or_sections, axis=0)\n",
        "# Parameters:\n",
        "# ary: The input array to be split.\n",
        "# indices_or_sections: This can be an integer specifying the number of equal sections to divide the array into or an array of indices at which to split.\n",
        "# axis: The axis along which to split the array. The default is 0 (rows for 2D arrays).\n",
        "\n",
        "# Key Features:\n",
        "\n",
        "# Handling Uneven Splits:\n",
        "# If the array cannot be split evenly (for example, if you try to split an array of size 10 into 3 parts), array_split() will create sub-arrays that may have different shapes. Specifically, it will distribute the leftover elements across the first few sub-arrays.\n",
        "# Returning a List:\n",
        "# The function returns a list of sub-arrays resulting from the split. The length of this list is determined by the specified number of sections or indices.\n",
        "\n",
        "# Example Usage\n",
        "\n",
        "# Even Split\n",
        "\n",
        "import numpy as np\n",
        "\n",
        "array = np.array([1, 2, 3, 4, 5, 6, 7, 8, 9, 10])\n",
        "\n",
        "split_arrays = np.array_split(array, 5)\n",
        "\n",
        "print(\"Even Split Result:\")\n",
        "for idx, sub_array in enumerate(split_arrays):\n",
        "    print(f\"Sub-array {idx+1}: {sub_array}\")\n",
        "\n",
        "# Uneven Split\n",
        "\n",
        "uneven_split_arrays = np.array_split(array, 3)\n",
        "\n",
        "print(\"\\nUneven Split Result:\")\n",
        "for idx, sub_array in enumerate(uneven_split_arrays):\n",
        "    print(f\"Sub-array {idx+1}: {sub_array}\")\n",
        "\n",
        "# Explanation of Uneven Splits:\n",
        "\n",
        "# In the example above, splitting the array of size 10 into 3 parts resulted in:\n",
        "# The first sub-array contained 3 elements.\n",
        "# The second sub-array contained 2 elements.\n",
        "# The last sub-array contained the remaining 5 elements.\n",
        "# This demonstrates how array_split() distributes the leftover elements across the resulting sub-arrays when the splits are uneven.\n",
        "\n",
        "# array_split() is an essential function for efficiently dividing arrays, particularly in scenarios where the dataset size may not evenly divide into the desired number of sections.\n"
      ],
      "metadata": {
        "id": "d9Wdej0yQ3Am",
        "colab": {
          "base_uri": "https://localhost:8080/"
        },
        "outputId": "2403e567-d6ff-4c3c-8575-44a2258e38ef"
      },
      "execution_count": 1,
      "outputs": [
        {
          "output_type": "stream",
          "name": "stdout",
          "text": [
            "Even Split Result:\n",
            "Sub-array 1: [1 2]\n",
            "Sub-array 2: [3 4]\n",
            "Sub-array 3: [5 6]\n",
            "Sub-array 4: [7 8]\n",
            "Sub-array 5: [ 9 10]\n",
            "\n",
            "Uneven Split Result:\n",
            "Sub-array 1: [1 2 3 4]\n",
            "Sub-array 2: [5 6 7]\n",
            "Sub-array 3: [ 8  9 10]\n"
          ]
        }
      ]
    },
    {
      "cell_type": "code",
      "source": [
        "# 10. Explain the concepts of vectorization and broadcasting in NumPy. How do they contribute to efficient array operations?\n",
        "\n",
        "# Vectorization and broadcasting are two powerful features in NumPy that significantly enhance the efficiency of array operations.\n",
        "\n",
        "# Vectorization:\n",
        "\n",
        "# Vectorization refers to the process of performing operations on entire arrays without the need for explicit loops in Python. This is achieved by leveraging optimized, low-level implementations in C, which are much faster than Python loops. For example, instead of using a loop to add two arrays element-wise, you can simply use the + operator:\n",
        "# Example:\n",
        "import numpy as np\n",
        "\n",
        "a = np.array([1, 2, 3])\n",
        "b = np.array([4, 5, 6])\n",
        "c = a + b  # Vectorized addition\n",
        "print (\"Vectorized_addition:\", c)\n",
        "\n",
        "# Broadcasting:\n",
        "\n",
        "# Broadcasting allows NumPy to perform arithmetic operations on arrays of different shapes by automatically expanding the smaller array to match the shape of the larger one. This eliminates the need for manual replication of data and makes operations more memory-efficient.\n",
        "# Example:\n",
        "import numpy as np\n",
        "\n",
        "a = np.array([1, 2, 3])\n",
        "b = np.array([[1], [2], [3]])\n",
        "c = a + b  # Broadcasting\n",
        "print (\"Broadcasted_addition:\", c)\n",
        "\n",
        "# Contribution to Efficiency:\n",
        "\n",
        "# Speed: Both vectorization and broadcasting leverage optimized C code, which is much faster than Python loops12.\n",
        "# Memory Efficiency: Broadcasting avoids unnecessary data replication, leading to more efficient memory usage2.\n",
        "# Code Simplicity: These features make the code more concise and easier to read1.\n",
        "# By using vectorization and broadcasting, we can write more efficient and readable code, which is crucial for handling large datasets and performing complex numerical computations.\n"
      ],
      "metadata": {
        "id": "psMqFoYTQ3MX",
        "colab": {
          "base_uri": "https://localhost:8080/"
        },
        "outputId": "80f31e01-1015-4182-e5f6-4dad0d1a68af"
      },
      "execution_count": null,
      "outputs": [
        {
          "output_type": "stream",
          "name": "stdout",
          "text": [
            "Vectorized_addition: [5 7 9]\n",
            "Broadcasted_addition: [[2 3 4]\n",
            " [3 4 5]\n",
            " [4 5 6]]\n"
          ]
        }
      ]
    },
    {
      "cell_type": "code",
      "source": [
        "# Practical Questions & Answers:"
      ],
      "metadata": {
        "id": "taL7MO6oIR0t"
      },
      "execution_count": null,
      "outputs": []
    },
    {
      "cell_type": "code",
      "source": [
        "# 1. Create a 3x3 NumPy array with random integers between 1 and 100. Then, interchange its rows and columns.\n",
        "\n",
        "import numpy as np\n",
        "\n",
        "array = np.random.randint(1, 101, size=(3, 3))\n",
        "\n",
        "transposed_array = array.T\n",
        "\n",
        "print(\"Original array:\")\n",
        "print(array)\n",
        "print(\"Transposed array:\")\n",
        "print(transposed_array)\n"
      ],
      "metadata": {
        "id": "NkxiMTxrK-sX",
        "colab": {
          "base_uri": "https://localhost:8080/"
        },
        "outputId": "56b69582-3720-4e7c-a6c9-607dc79ca94d"
      },
      "execution_count": null,
      "outputs": [
        {
          "output_type": "stream",
          "name": "stdout",
          "text": [
            "Original array:\n",
            "[[77 10 63]\n",
            " [42 13 96]\n",
            " [72 74 59]]\n",
            "Transposed array:\n",
            "[[77 42 72]\n",
            " [10 13 74]\n",
            " [63 96 59]]\n"
          ]
        }
      ]
    },
    {
      "cell_type": "code",
      "source": [
        "# 2. Generate a 1D NumPy array with 10 elements. Reshape it into a 2x5 array, then into a 5x2 array.\n",
        "\n",
        "import numpy as np\n",
        "\n",
        "array_1d = np.arange(1, 11)  # This creates an array from 1 to 10\n",
        "\n",
        "array_2x5 = array_1d.reshape((2, 5))\n",
        "\n",
        "array_5x2 = array_2x5.reshape((5, 2))\n",
        "\n",
        "print(\"Original 1D array:\")\n",
        "print(array_1d)\n",
        "print(\"Reshaped to 2x5 array:\")\n",
        "print(array_2x5)\n",
        "print(\"Reshaped to 5x2 array:\")\n",
        "print(array_5x2)\n"
      ],
      "metadata": {
        "id": "VQ6pZAvIK-jV",
        "colab": {
          "base_uri": "https://localhost:8080/"
        },
        "outputId": "af257e52-48f4-4ed6-8be6-3a3d8a8df777"
      },
      "execution_count": null,
      "outputs": [
        {
          "output_type": "stream",
          "name": "stdout",
          "text": [
            "Original 1D array:\n",
            "[ 1  2  3  4  5  6  7  8  9 10]\n",
            "Reshaped to 2x5 array:\n",
            "[[ 1  2  3  4  5]\n",
            " [ 6  7  8  9 10]]\n",
            "Reshaped to 5x2 array:\n",
            "[[ 1  2]\n",
            " [ 3  4]\n",
            " [ 5  6]\n",
            " [ 7  8]\n",
            " [ 9 10]]\n"
          ]
        }
      ]
    },
    {
      "cell_type": "code",
      "source": [
        "# 3. Create a 4x4 NumPy array with random float values. Add a border of zeros around it, resulting in a 6x6 array.\n",
        "\n",
        "import numpy as np\n",
        "\n",
        "array_4x4 = np.random.rand(4, 4)\n",
        "\n",
        "array_6x6 = np.pad(array_4x4, pad_width=1, mode='constant', constant_values=0)\n",
        "\n",
        "print(\"Original 4x4 array:\")\n",
        "print(array_4x4)\n",
        "print(\"6x6 array with a border of zeros:\")\n",
        "print(array_6x6)\n"
      ],
      "metadata": {
        "colab": {
          "base_uri": "https://localhost:8080/"
        },
        "id": "9nUJDUJcKMqC",
        "outputId": "1c9636c6-c970-484e-e794-51ae16bc5793"
      },
      "execution_count": null,
      "outputs": [
        {
          "output_type": "stream",
          "name": "stdout",
          "text": [
            "Original 4x4 array:\n",
            "[[0.17496435 0.49980307 0.12371125 0.40559946]\n",
            " [0.72742933 0.79968578 0.91956092 0.34105915]\n",
            " [0.61209404 0.80732089 0.18153512 0.81901393]\n",
            " [0.27222235 0.51359055 0.52952707 0.39772451]]\n",
            "6x6 array with a border of zeros:\n",
            "[[0.         0.         0.         0.         0.         0.        ]\n",
            " [0.         0.17496435 0.49980307 0.12371125 0.40559946 0.        ]\n",
            " [0.         0.72742933 0.79968578 0.91956092 0.34105915 0.        ]\n",
            " [0.         0.61209404 0.80732089 0.18153512 0.81901393 0.        ]\n",
            " [0.         0.27222235 0.51359055 0.52952707 0.39772451 0.        ]\n",
            " [0.         0.         0.         0.         0.         0.        ]]\n"
          ]
        }
      ]
    },
    {
      "cell_type": "code",
      "source": [
        "# 4. Using NumPy, create an array of integers from 10 to 60 with a step of 5.\n",
        "\n",
        "import numpy as np\n",
        "\n",
        "array = np.arange(10, 65, 5)\n",
        "\n",
        "print(\"Array of integers from 10 to 60 with a step of 5:\")\n",
        "print(array)\n"
      ],
      "metadata": {
        "colab": {
          "base_uri": "https://localhost:8080/"
        },
        "id": "56n3PGPVKNL4",
        "outputId": "e3c3f49b-cf10-4e0c-ca5f-6bebe8140d08"
      },
      "execution_count": null,
      "outputs": [
        {
          "output_type": "stream",
          "name": "stdout",
          "text": [
            "Array of integers from 10 to 60 with a step of 5:\n",
            "[10 15 20 25 30 35 40 45 50 55 60]\n"
          ]
        }
      ]
    },
    {
      "cell_type": "code",
      "source": [
        "# 5. Create a NumPy array of strings ['python', 'numpy', 'pandas']. Apply different case transformations (uppercase, lowercase, title case, etc.) to each element.\n",
        "\n",
        "import numpy as np\n",
        "\n",
        "array = np.array(['python', 'numpy', 'pandas'])\n",
        "\n",
        "upper_case = np.char.upper(array)\n",
        "lower_case = np.char.lower(array)\n",
        "title_case = np.char.title(array)\n",
        "\n",
        "print(\"Original array:\")\n",
        "print(array)\n",
        "print(\"Uppercase transformation:\")\n",
        "print(upper_case)\n",
        "print(\"Lowercase transformation:\")\n",
        "print(lower_case)\n",
        "print(\"Title case transformation:\")\n",
        "print(title_case)\n"
      ],
      "metadata": {
        "colab": {
          "base_uri": "https://localhost:8080/"
        },
        "id": "7LBMBzO8KNXF",
        "outputId": "0f5fc6e5-b752-4c5c-d07f-0e26342e56ef"
      },
      "execution_count": null,
      "outputs": [
        {
          "output_type": "stream",
          "name": "stdout",
          "text": [
            "Original array:\n",
            "['python' 'numpy' 'pandas']\n",
            "Uppercase transformation:\n",
            "['PYTHON' 'NUMPY' 'PANDAS']\n",
            "Lowercase transformation:\n",
            "['python' 'numpy' 'pandas']\n",
            "Title case transformation:\n",
            "['Python' 'Numpy' 'Pandas']\n"
          ]
        }
      ]
    },
    {
      "cell_type": "code",
      "source": [
        "# 6. Generate a NumPy array of words. Insert a space between each character of every word in the array.\n",
        "\n",
        "import numpy as np\n",
        "\n",
        "words = np.array(['hello', 'world', 'numpy'])\n",
        "\n",
        "spaced_words = np.char.join(' ', words)\n",
        "\n",
        "print(\"Original array:\")\n",
        "print(words)\n",
        "print(\"Array with spaces between each character:\")\n",
        "print(spaced_words)"
      ],
      "metadata": {
        "colab": {
          "base_uri": "https://localhost:8080/"
        },
        "id": "UVqScDZJKNfc",
        "outputId": "56745999-e354-476b-aec3-e269384d6794"
      },
      "execution_count": null,
      "outputs": [
        {
          "output_type": "stream",
          "name": "stdout",
          "text": [
            "Original array:\n",
            "['hello' 'world' 'numpy']\n",
            "Array with spaces between each character:\n",
            "['h e l l o' 'w o r l d' 'n u m p y']\n"
          ]
        }
      ]
    },
    {
      "cell_type": "code",
      "source": [
        "# 7. Create two 2D NumPy arrays and perform element-wise addition, subtraction, multiplication, and division.\n",
        "\n",
        "import numpy as np\n",
        "\n",
        "array1 = np.array([[1, 2], [3, 4]])\n",
        "array2 = np.array([[5, 6], [7, 8]])\n",
        "\n",
        "addition = np.add(array1, array2)\n",
        "\n",
        "subtraction = np.subtract(array1, array2)\n",
        "\n",
        "multiplication = np.multiply(array1, array2)\n",
        "\n",
        "division = np.divide(array1, array2)\n",
        "\n",
        "print(\"Array 1:\")\n",
        "print(array1)\n",
        "print(\"Array 2:\")\n",
        "print(array2)\n",
        "print(\"Element-wise addition:\")\n",
        "print(addition)\n",
        "print(\"Element-wise subtraction:\")\n",
        "print(subtraction)\n",
        "print(\"Element-wise multiplication:\")\n",
        "print(multiplication)\n",
        "print(\"Element-wise division:\")\n",
        "print(division)\n"
      ],
      "metadata": {
        "colab": {
          "base_uri": "https://localhost:8080/"
        },
        "id": "J5mbytU9KNn-",
        "outputId": "be124416-d53a-49cb-8a37-ce3137ad6766"
      },
      "execution_count": null,
      "outputs": [
        {
          "output_type": "stream",
          "name": "stdout",
          "text": [
            "Array 1:\n",
            "[[1 2]\n",
            " [3 4]]\n",
            "Array 2:\n",
            "[[5 6]\n",
            " [7 8]]\n",
            "Element-wise addition:\n",
            "[[ 6  8]\n",
            " [10 12]]\n",
            "Element-wise subtraction:\n",
            "[[-4 -4]\n",
            " [-4 -4]]\n",
            "Element-wise multiplication:\n",
            "[[ 5 12]\n",
            " [21 32]]\n",
            "Element-wise division:\n",
            "[[0.2        0.33333333]\n",
            " [0.42857143 0.5       ]]\n"
          ]
        }
      ]
    },
    {
      "cell_type": "code",
      "source": [
        "# 8. Use NumPy to create a 5x5 identity matrix, then extract its diagonal elements.\n",
        "\n",
        "import numpy as np\n",
        "\n",
        "identity_matrix = np.identity(5)\n",
        "\n",
        "diagonal_elements = np.diag(identity_matrix)\n",
        "\n",
        "print(\"5x5 Identity matrix:\")\n",
        "print(identity_matrix)\n",
        "print(\"Diagonal elements:\")\n",
        "print(diagonal_elements)\n"
      ],
      "metadata": {
        "colab": {
          "base_uri": "https://localhost:8080/"
        },
        "id": "2wRCzVAdL42j",
        "outputId": "fdc4d231-8611-4640-f2b9-de2ee71a5805"
      },
      "execution_count": null,
      "outputs": [
        {
          "output_type": "stream",
          "name": "stdout",
          "text": [
            "5x5 Identity matrix:\n",
            "[[1. 0. 0. 0. 0.]\n",
            " [0. 1. 0. 0. 0.]\n",
            " [0. 0. 1. 0. 0.]\n",
            " [0. 0. 0. 1. 0.]\n",
            " [0. 0. 0. 0. 1.]]\n",
            "Diagonal elements:\n",
            "[1. 1. 1. 1. 1.]\n"
          ]
        }
      ]
    },
    {
      "cell_type": "code",
      "source": [
        "# 9. Generate a NumPy array of 100 random integers between 0 and 1000. Find and display all prime numbers in this array.\n",
        "\n",
        "import numpy as np\n",
        "\n",
        "random_integers = np.random.randint(0, 1001, size=100)\n",
        "\n",
        "def is_prime(n):\n",
        "    if n <= 1:\n",
        "        return False\n",
        "    for i in range(2, int(np.sqrt(n)) + 1):\n",
        "        if n % i == 0:\n",
        "            return False\n",
        "    return True\n",
        "\n",
        "primes = [num for num in random_integers if is_prime(num)]\n",
        "\n",
        "print(\"Array of 100 random integers:\")\n",
        "print(random_integers)\n",
        "print(\"Prime numbers in the array:\")\n",
        "print(primes)\n"
      ],
      "metadata": {
        "colab": {
          "base_uri": "https://localhost:8080/"
        },
        "id": "zy3Cx7KnL5EC",
        "outputId": "17f724af-cc53-43bc-9f8d-d0f696bcb702"
      },
      "execution_count": null,
      "outputs": [
        {
          "output_type": "stream",
          "name": "stdout",
          "text": [
            "Array of 100 random integers:\n",
            "[237 447 136 873 558 521 989 482 928 438 594  93 937 307 636 509 547 951\n",
            " 864 647 738 452 264 242 876 405 949 170 241 275 740 330 660 403 467 452\n",
            " 199 699 968 179 500 267 150 718 905 270  30 667 508 147 455 988  55 146\n",
            " 800 938 158 781 464 564 967 325 369 304 357  98 675 644 821 488 745 179\n",
            " 897 998 243 886 802 846 155 951   4 286 561 962 139 554   0 205  83 810\n",
            " 367 415 990  57 557 343 564 721 838 790]\n",
            "Prime numbers in the array:\n",
            "[521, 937, 307, 509, 547, 647, 241, 467, 199, 179, 967, 821, 179, 139, 83, 367, 557]\n"
          ]
        }
      ]
    },
    {
      "cell_type": "code",
      "source": [
        "# 10. Create a NumPy array representing daily temperatures for a month. Calculate and display the weekly averages.\n",
        "\n",
        "import numpy as np\n",
        "\n",
        "daily_temperatures = np.random.uniform(20, 30, 30)\n",
        "print(\"Daily Temperatures:\")\n",
        "print(daily_temperatures)\n",
        "\n",
        "weeks = np.array_split(daily_temperatures, 4)\n",
        "\n",
        "weekly_averages = [np.mean(week) for week in weeks]\n",
        "print(\"\\nWeekly Averages:\")\n",
        "print(weekly_averages)\n"
      ],
      "metadata": {
        "id": "NCLWi6xFL5Oa",
        "colab": {
          "base_uri": "https://localhost:8080/"
        },
        "outputId": "1e4cf2d8-56ff-4f8b-8d5f-62819291ac67"
      },
      "execution_count": 8,
      "outputs": [
        {
          "output_type": "stream",
          "name": "stdout",
          "text": [
            "Daily Temperatures:\n",
            "[21.70909585 23.58152167 27.50686141 26.07830669 23.25047229 20.38425426\n",
            " 26.34274058 29.58949269 26.52790317 26.35058874 29.95299568 25.81850329\n",
            " 24.14368588 24.74697502 26.23510101 23.38007615 26.74752322 23.17201742\n",
            " 27.78345482 29.49571053 26.62526867 20.13571636 26.22846096 26.73659631\n",
            " 29.71945002 28.78193471 25.09624377 20.55714694 24.51159215 20.19987665]\n",
            "\n",
            "Weekly Averages:\n",
            "[24.805343180128045, 25.894478617763774, 25.741164568448276, 25.086120078619754]\n"
          ]
        }
      ]
    },
    {
      "cell_type": "code",
      "source": [],
      "metadata": {
        "id": "zRiI3zlYNLU5"
      },
      "execution_count": null,
      "outputs": []
    }
  ]
}